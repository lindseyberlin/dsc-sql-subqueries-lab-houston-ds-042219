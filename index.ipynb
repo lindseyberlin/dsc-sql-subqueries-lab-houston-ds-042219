{
 "cells": [
  {
   "cell_type": "markdown",
   "metadata": {},
   "source": [
    "# SQL Subqueries - Lab\n",
    "\n",
    "## Introduction\n",
    "\n",
    "Now that you've seen how subqueries work, it's time to get some practice writing them! Not all of the queries will require subqueries, but all will be a bit more complex and require some thought and review about aggregates, grouping, ordering, filtering, joins and subqueries. Good luck!  \n",
    "\n",
    "## Objectives\n",
    "\n",
    "You will be able to:\n",
    "\n",
    "* Write subqueries to decompose complex queries\n",
    "\n",
    "## CRM Database Schema\n",
    "\n",
    "Once again, here's the schema for the CRM database you'll continue to practice with.\n",
    "\n",
    "<img src=\"images/Database-Schema.png\" width=\"600\">\n",
    "\n",
    "## Connect to the Database\n",
    "\n",
    "As usual, start by importing the necessary packages and connecting to the database **data.sqlite**."
   ]
  },
  {
   "cell_type": "code",
   "execution_count": 1,
   "metadata": {},
   "outputs": [],
   "source": [
    "import sqlite3\n",
    "import pandas as pd"
   ]
  },
  {
   "cell_type": "code",
   "execution_count": 2,
   "metadata": {},
   "outputs": [],
   "source": [
    "conn = sqlite3.connect(\"data.sqlite\")\n",
    "c = conn.cursor()"
   ]
  },
  {
   "cell_type": "markdown",
   "metadata": {},
   "source": [
    "## Select the Average Number of Orders on a Product by Product Basis"
   ]
  },
  {
   "cell_type": "code",
   "execution_count": 4,
   "metadata": {},
   "outputs": [
    {
     "data": {
      "text/plain": [
       "[(10265.75,),\n",
       " (10260.32142857143,),\n",
       " (10265.42857142857,),\n",
       " (10265.57142857143,),\n",
       " (10263.0,),\n",
       " (10260.857142857143,),\n",
       " (10262.037037037036,),\n",
       " (10256.592592592593,),\n",
       " (10260.57142857143,),\n",
       " (10265.964285714286,),\n",
       " (10256.407407407407,),\n",
       " (10262.185185185184,),\n",
       " (10256.703703703704,),\n",
       " (10262.111111111111,),\n",
       " (10261.785714285714,),\n",
       " (10262.407407407407,),\n",
       " (10260.42857142857,),\n",
       " (10263.074074074075,),\n",
       " (10259.42857142857,),\n",
       " (10259.535714285714,),\n",
       " (10254.8,),\n",
       " (10263.82142857143,),\n",
       " (10246.76,),\n",
       " (10262.481481481482,),\n",
       " (10263.148148148148,),\n",
       " (10261.892857142857,),\n",
       " (10246.84,),\n",
       " (10261.607142857143,),\n",
       " (10258.785714285714,),\n",
       " (10261.07142857143,),\n",
       " (10264.714285714286,),\n",
       " (10265.5,),\n",
       " (10259.17857142857,),\n",
       " (10254.72,),\n",
       " (10260.107142857143,),\n",
       " (10260.0,),\n",
       " (10263.464285714286,),\n",
       " (10260.035714285714,),\n",
       " (10257.111111111111,),\n",
       " (10258.11320754717,),\n",
       " (10257.111111111111,),\n",
       " (10262.074074074075,),\n",
       " (10259.92857142857,),\n",
       " (10262.185185185184,),\n",
       " (10254.68,),\n",
       " (10261.814814814816,),\n",
       " (10263.607142857143,),\n",
       " (10256.444444444445,),\n",
       " (10246.72,),\n",
       " (10257.333333333334,),\n",
       " (10261.0,),\n",
       " (10260.75,),\n",
       " (10261.962962962964,),\n",
       " (10252.708333333334,),\n",
       " (10255.24,),\n",
       " (10262.035714285714,),\n",
       " (10265.67857142857,),\n",
       " (10254.96,),\n",
       " (10264.642857142857,),\n",
       " (10258.857142857143,),\n",
       " (10265.464285714286,),\n",
       " (10257.444444444445,),\n",
       " (10259.07142857143,),\n",
       " (10261.357142857143,),\n",
       " (10261.481481481482,),\n",
       " (10255.44,),\n",
       " (10261.785714285714,),\n",
       " (10263.785714285714,),\n",
       " (10252.791666666666,),\n",
       " (10262.925925925925,),\n",
       " (10257.814814814816,),\n",
       " (10255.44,),\n",
       " (10262.333333333334,),\n",
       " (10263.82142857143,),\n",
       " (10255.36,),\n",
       " (10263.285714285714,),\n",
       " (10262.703703703704,),\n",
       " (10264.142857142857,),\n",
       " (10247.08,),\n",
       " (10256.111111111111,),\n",
       " (10260.17857142857,),\n",
       " (10264.82142857143,),\n",
       " (10262.074074074075,),\n",
       " (10261.25,),\n",
       " (10265.142857142857,),\n",
       " (10261.814814814816,),\n",
       " (10261.82142857143,),\n",
       " (10256.37037037037,),\n",
       " (10260.892857142857,),\n",
       " (10264.785714285714,),\n",
       " (10261.592592592593,),\n",
       " (10264.642857142857,),\n",
       " (10262.142857142857,),\n",
       " (10256.666666666666,),\n",
       " (10261.62962962963,),\n",
       " (10257.814814814816,),\n",
       " (10264.642857142857,),\n",
       " (10257.296296296296,),\n",
       " (10263.785714285714,),\n",
       " (10264.32142857143,),\n",
       " (10258.037037037036,),\n",
       " (10261.07142857143,),\n",
       " (10265.0,),\n",
       " (10264.535714285714,),\n",
       " (10257.777777777777,),\n",
       " (10257.703703703704,),\n",
       " (10264.17857142857,),\n",
       " (10263.82142857143,),\n",
       " (10257.666666666666,)]"
      ]
     },
     "execution_count": 4,
     "metadata": {},
     "output_type": "execute_result"
    }
   ],
   "source": [
    "c.execute('''SELECT AVG(orderNumber)\n",
    "             FROM orderdetails\n",
    "             GROUP BY productCode''').fetchall()"
   ]
  },
  {
   "cell_type": "markdown",
   "metadata": {},
   "source": [
    "## Write an Equivalent Query using a Subquery\n",
    "\n",
    "```SQL\n",
    "select customerNumber,\n",
    "       contactLastName,\n",
    "       contactFirstName\n",
    "       from customers\n",
    "       join orders \n",
    "       using(customerNumber)\n",
    "       where orderDate = '2003-01-31';\n",
    "```"
   ]
  },
  {
   "cell_type": "code",
   "execution_count": null,
   "metadata": {},
   "outputs": [],
   "source": [
    "c.execute('''SELECT customerNumber, contactLastName, contactFirstName\n",
    "             from''').fetchall()"
   ]
  },
  {
   "cell_type": "markdown",
   "metadata": {},
   "source": [
    "## Select the Total Number of Orders for Each Product Name\n",
    "\n",
    "Sort the results by the total number of items sold for that product."
   ]
  },
  {
   "cell_type": "code",
   "execution_count": null,
   "metadata": {},
   "outputs": [],
   "source": [
    "#Your code here"
   ]
  },
  {
   "cell_type": "markdown",
   "metadata": {},
   "source": [
    "## Select the Product Name and the  Total Number of People Who Have Ordered Each Product\n",
    "\n",
    "Sort the results in descending order."
   ]
  },
  {
   "cell_type": "code",
   "execution_count": null,
   "metadata": {},
   "outputs": [],
   "source": [
    "#Your code here"
   ]
  },
  {
   "cell_type": "markdown",
   "metadata": {},
   "source": [
    "## Select the Employee Number, Office Code, City (of the office), and Name (First and Last) of those Employees who Sold Products that Have Been Ordered by Less Then 20 people.\n",
    "\n",
    "This problem is a bit tougher. To start, think about how you might break the problem up. Be sure that your results only list each employee once."
   ]
  },
  {
   "cell_type": "code",
   "execution_count": null,
   "metadata": {},
   "outputs": [],
   "source": [
    "#Your code here"
   ]
  },
  {
   "cell_type": "markdown",
   "metadata": {},
   "source": [
    "## Select the Employee Number, Name (First and Last) and Number of Customers of Employees Who's Customers Have an Average Credit Limit of Over 15K"
   ]
  },
  {
   "cell_type": "code",
   "execution_count": null,
   "metadata": {},
   "outputs": [],
   "source": [
    "#Your code here"
   ]
  },
  {
   "cell_type": "markdown",
   "metadata": {},
   "source": [
    "## Summary\n",
    "\n",
    "In this lesson, you got to practice some more complex SQL queries, some of which required subqueries. There's still plenty more SQL to be had though; hope you've been enjoying some of these puzzles!"
   ]
  }
 ],
 "metadata": {
  "kernelspec": {
   "display_name": "Python 3",
   "language": "python",
   "name": "python3"
  },
  "language_info": {
   "codemirror_mode": {
    "name": "ipython",
    "version": 3
   },
   "file_extension": ".py",
   "mimetype": "text/x-python",
   "name": "python",
   "nbconvert_exporter": "python",
   "pygments_lexer": "ipython3",
   "version": "3.6.6"
  }
 },
 "nbformat": 4,
 "nbformat_minor": 2
}
